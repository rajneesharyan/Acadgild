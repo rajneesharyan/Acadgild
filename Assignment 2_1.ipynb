{
 "cells": [
  {
   "cell_type": "markdown",
   "metadata": {},
   "source": [
    "### Write a program which accepts a sequence of comma-separated numbers from console and generate a list."
   ]
  },
  {
   "cell_type": "code",
   "execution_count": 1,
   "metadata": {},
   "outputs": [
    {
     "name": "stdout",
     "output_type": "stream",
     "text": [
      "Enter a sequence of numbers that is comma seperated :1,2,3,4,5,6,7,8\n",
      "['1', '2', '3', '4', '5', '6', '7', '8']\n"
     ]
    }
   ],
   "source": [
    "seq = input(\"Enter a sequence of numbers that is comma seperated :\").replace(\" \",\"\").strip(\" \")\n",
    "print (seq.split(\",\"))"
   ]
  },
  {
   "cell_type": "markdown",
   "metadata": {},
   "source": [
    "### Create the below pattern using nested for loop in Python. "
   ]
  },
  {
   "cell_type": "code",
   "execution_count": 7,
   "metadata": {},
   "outputs": [
    {
     "name": "stdout",
     "output_type": "stream",
     "text": [
      "      \n",
      "      * \n",
      "      * * \n",
      "      * * * \n",
      "      * * * * \n",
      "      * * * * * \n",
      "      * * * * \n",
      "      * * * \n",
      "      * * \n",
      "      * \n"
     ]
    }
   ],
   "source": [
    "for i in range(6):\n",
    "    #Print the fixed number of spaces followed by asterix\n",
    "    print (\"     \", \"* \" * i)\n",
    "for i in range (4, 0, -1):\n",
    "    # Print in the descending order now\n",
    "    print (\"     \", \"* \" * i)  "
   ]
  },
  {
   "cell_type": "markdown",
   "metadata": {},
   "source": [
    "### Write a Python program to reverse a word after accepting the input from the user."
   ]
  },
  {
   "cell_type": "code",
   "execution_count": 9,
   "metadata": {},
   "outputs": [
    {
     "name": "stdout",
     "output_type": "stream",
     "text": [
      "Enter the word to be reverserAppaiah\n",
      "haiappA\n"
     ]
    }
   ],
   "source": [
    "print (input(\"Enter the word to be reverser\").strip(\" \")[::-1])"
   ]
  },
  {
   "cell_type": "markdown",
   "metadata": {},
   "source": [
    "### Write a Python Program to print the given string in the format specified in the sample output."
   ]
  },
  {
   "cell_type": "code",
   "execution_count": 15,
   "metadata": {},
   "outputs": [
    {
     "name": "stdout",
     "output_type": "stream",
     "text": [
      "WE, THE PEOPLE OF INDIA,\n",
      "        having solemnly resolved to constitute India into a SOVEREIGN,! \n",
      "                SOCIALIST, SECULAR, DEMOCRATIC REPUBLIC\n",
      "                 and to secure to all its citizens\n"
     ]
    }
   ],
   "source": [
    "str = \"WE, THE PEOPLE OF INDIA,\\n \\thaving solemnly resolved to constitute India into a SOVEREIGN,! \\n \\t\\tSOCIALIST, SECULAR, DEMOCRATIC REPUBLIC\\n \\t\\t and to secure to all its citizens\"\n",
    "result = str.expandtabs()\n",
    "print (result)"
   ]
  },
  {
   "cell_type": "code",
   "execution_count": null,
   "metadata": {},
   "outputs": [],
   "source": []
  }
 ],
 "metadata": {
  "kernelspec": {
   "display_name": "Python 3",
   "language": "python",
   "name": "python3"
  },
  "language_info": {
   "codemirror_mode": {
    "name": "ipython",
    "version": 3
   },
   "file_extension": ".py",
   "mimetype": "text/x-python",
   "name": "python",
   "nbconvert_exporter": "python",
   "pygments_lexer": "ipython3",
   "version": "3.7.1"
  }
 },
 "nbformat": 4,
 "nbformat_minor": 2
}
