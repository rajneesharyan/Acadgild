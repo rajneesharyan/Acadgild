{
 "cells": [
  {
   "cell_type": "markdown",
   "metadata": {},
   "source": [
    "# Write a Python Program(with class concepts) to find the area of the triangle using the below\n",
    "formula.\n",
    "area = (s*(s-a)*(s-b)*(s-c)) ** 0.5 \n",
    "\n",
    "s is the perimeter calculated as s = (a+b+c)/2\n",
    "\n",
    "\n",
    "Function to take the length of the sides of triangle from user should be defined in the parent class and function to calculate the area should be defined in subclass."
   ]
  },
  {
   "cell_type": "code",
   "execution_count": 1,
   "metadata": {},
   "outputs": [
    {
     "name": "stdout",
     "output_type": "stream",
     "text": [
      "Enter value of side a : 12\n",
      "Enter value of side b : 12\n",
      "Enter value of side c : 12\n",
      "Area of Triangle is :  62.353829072479584\n"
     ]
    }
   ],
   "source": [
    "# Define the parent class Triangle\n",
    "class Triangle:\n",
    "    # Define the constructor\n",
    "    def __init__(self):\n",
    "        self.side_a = float(input(\"Enter value of side a : \"))\n",
    "        self.side_b = float(input(\"Enter value of side b : \"))\n",
    "        self.side_c = float(input(\"Enter value of side c : \"))\n",
    "        \n",
    "# Define the sub class that calculates the area of the triangle\n",
    "class AreaOfTriangle(Triangle):\n",
    "    # Define the constructor\n",
    "    def __init__(self):\n",
    "        # Call the constructor of the parent class\n",
    "        super().__init__()\n",
    "        \n",
    "    # Method to calculate the area\n",
    "    def areaCalc(self):\n",
    "        s = (self.side_a +self.side_b + self.side_c) / 2\n",
    "        return (s * (s - self.side_a)* (s - self.side_b)*(s - self.side_c)) ** 0.5\n",
    "\n",
    "# Main program begins here\n",
    "# Accept the three sides from the user\n",
    "aTrian = AreaOfTriangle()\n",
    "print (\"Area of Triangle is : \", aTrian.areaCalc())\n",
    "    \n",
    "        "
   ]
  },
  {
   "cell_type": "markdown",
   "metadata": {},
   "source": [
    "### Write a function filter_long_words() that takes a list of words and an integer n and returns the list of words that are longer than n."
   ]
  },
  {
   "cell_type": "code",
   "execution_count": 16,
   "metadata": {},
   "outputs": [
    {
     "name": "stdout",
     "output_type": "stream",
     "text": [
      "Words longer than 5 in the list are :  ['Banana', 'Pineapple']\n"
     ]
    }
   ],
   "source": [
    "# Function that finds words that are larger than a number\n",
    "def filter_long_words(lst, lngt):\n",
    "    return [wrd for wrd in lst if len(wrd) > lngt]\n",
    "\n",
    "# Call the function\n",
    "lst = [\"Apple\", \"Banana\", \"Pineapple\", \"Roses\"]\n",
    "print (\"Words longer than 5 in the list are : \", filter_long_words(lst, 5))\n",
    "    "
   ]
  },
  {
   "cell_type": "markdown",
   "metadata": {},
   "source": [
    "### Write a Python program using function concept that maps list of words into a list of integers representing the lengths of the corresponding words.\n",
    "\n",
    "Hint: If a list [ ab,cde,erty] is passed on to the python function output should come as [2,3,4]\n",
    "Here 2,3 and 4 are the lengths of the words in the list."
   ]
  },
  {
   "cell_type": "code",
   "execution_count": 18,
   "metadata": {},
   "outputs": [
    {
     "name": "stdout",
     "output_type": "stream",
     "text": [
      "List with there lenghts are :  [2, 3, 4]\n"
     ]
    }
   ],
   "source": [
    "def list_length(lst):\n",
    "    return [len(wrd) for wrd in lst]\n",
    "\n",
    "# Call the function\n",
    "lst = [ 'ab', 'cde', 'erty'] \n",
    "print (\"List with there lenghts are : \" , list_length(lst))"
   ]
  },
  {
   "cell_type": "markdown",
   "metadata": {},
   "source": [
    "### Write a Python function which takes a character (i.e. a string of length 1) and returns True if it is a vowel, False otherwise."
   ]
  },
  {
   "cell_type": "code",
   "execution_count": 3,
   "metadata": {},
   "outputs": [
    {
     "name": "stdout",
     "output_type": "stream",
     "text": [
      "A is a vowel:  False\n"
     ]
    }
   ],
   "source": [
    "def vowelCheck(char):\n",
    "    return char.lower() in ['a', 'e', 'i', 'o' , 'u']\n",
    "\n",
    "# MAin section\n",
    "print (\"A is a vowel: \" ,  vowelCheck('B') )"
   ]
  },
  {
   "cell_type": "code",
   "execution_count": null,
   "metadata": {},
   "outputs": [],
   "source": []
  }
 ],
 "metadata": {
  "kernelspec": {
   "display_name": "Python 3",
   "language": "python",
   "name": "python3"
  },
  "language_info": {
   "codemirror_mode": {
    "name": "ipython",
    "version": 3
   },
   "file_extension": ".py",
   "mimetype": "text/x-python",
   "name": "python",
   "nbconvert_exporter": "python",
   "pygments_lexer": "ipython3",
   "version": "3.7.1"
  }
 },
 "nbformat": 4,
 "nbformat_minor": 2
}
